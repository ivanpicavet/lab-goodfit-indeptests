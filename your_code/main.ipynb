{
 "cells": [
  {
   "cell_type": "markdown",
   "metadata": {},
   "source": [
    "## Question 1\n",
    "The following table indicates the number of 6-point scores in an American rugby match in the 1979 season.\n",
    "\n",
    "![](table1.png)\n",
    "\n",
    "Based on these results, we create a Poisson distribution with the sample mean parameter  = 2.435. Is there any reason to believe that at a .05 level the number of scores is a Poisson variable?"
   ]
  },
  {
   "cell_type": "code",
   "execution_count": 3,
   "metadata": {},
   "outputs": [
    {
     "name": "stdout",
     "output_type": "stream",
     "text": [
      "[0.08759774704805763, 0.21330051406202033, 0.2596933758705097, 0.21078445674823038, 0.12831503804548525, 0.06248942352815135, 0.025360291048508062, 0.008821758386159596]\n",
      "[0.078125   0.28448276 0.29885057 0.31609195 0.13839286 0.05580357\n",
      " 0.02232143 0.00669643]\n",
      "0.08567782537013603\n"
     ]
    },
    {
     "data": {
      "text/plain": [
       "0.9999986468918388"
      ]
     },
     "execution_count": 3,
     "metadata": {},
     "output_type": "execute_result"
    }
   ],
   "source": [
    "# your answer here\n",
    "from numpy import random\n",
    "from scipy.stats import poisson\n",
    "import numpy as np\n",
    "import scipy.stats as st\n",
    "mu=2.435\n",
    "\n",
    "poisson_dist=poisson(mu)\n",
    "E=[poisson_dist.pmf(i) for i in range(0,8)]\n",
    "O=np.array([35/448,99/348,104/348,110/348,62/448,25/448,10/448,3/448])\n",
    "print(E)\n",
    "print(O)\n",
    "\n",
    "stat = (np.square(O-E)/E).sum()\n",
    "print(stat)\n",
    "st.chi2.sf(stat,7)"
   ]
  },
  {
   "cell_type": "code",
   "execution_count": 36,
   "metadata": {},
   "outputs": [
    {
     "data": {
      "text/plain": [
       "Power_divergenceResult(statistic=0.08567782537013603, pvalue=0.9999986468918388)"
      ]
     },
     "execution_count": 36,
     "metadata": {},
     "output_type": "execute_result"
    }
   ],
   "source": [
    "st.chisquare(O, f_exp=E)\n",
    "\"\"\"we accept with 95% confidence that this is a poisson distribution\"\"\""
   ]
  },
  {
   "cell_type": "markdown",
   "metadata": {},
   "source": [
    "## BONUS/OPTIONAL - Question 2\n",
    "Let's analyze a discrete distribution. To analyze the number of defective items in a factory in the city of Medellín, we took a random sample of n = 60 articles and observed the number of defectives in the following table:\n",
    "\n",
    "![](table2.png)\n",
    "\n",
    "A poissón distribution was proposed since it is defined for x = 0,1,2,3, .... using the following model:\n",
    "\n",
    "![](image1.png)\n",
    "\n",
    "For some extra insights check the following link: https://online.stat.psu.edu/stat504/node/63/ \n",
    "\n",
    "Does the distribution of defective items follow this distribution?"
   ]
  },
  {
   "cell_type": "code",
   "execution_count": null,
   "metadata": {},
   "outputs": [],
   "source": [
    "# your code here"
   ]
  },
  {
   "cell_type": "markdown",
   "metadata": {},
   "source": [
    "## Question 3\n",
    "A quality control engineer takes a sample of 10 tires that come out of an assembly line, and would like to verify on the basis of the data that follows, if the number of tires with defects observed over 200 days, if it is true that 5% of all tires have defects (that is, if the sample comes from a binomial population with n = 10 and p = 0.05). \n",
    "\n",
    "![](table3.png)\n"
   ]
  },
  {
   "cell_type": "code",
   "execution_count": 4,
   "metadata": {},
   "outputs": [],
   "source": [
    "#calculating weight for O array\n",
    "N=138+53+9\n",
    "a1=138/N\n",
    "a2=53/N\n",
    "a3=9/N\n"
   ]
  },
  {
   "cell_type": "code",
   "execution_count": 12,
   "metadata": {},
   "outputs": [
    {
     "ename": "SyntaxError",
     "evalue": "invalid syntax (<ipython-input-12-2f0cc1923fdf>, line 13)",
     "output_type": "error",
     "traceback": [
      "\u001b[1;36m  File \u001b[1;32m\"<ipython-input-12-2f0cc1923fdf>\"\u001b[1;36m, line \u001b[1;32m13\u001b[0m\n\u001b[1;33m    z=[st.chisquare(O, f_exp=E) if E>0]\u001b[0m\n\u001b[1;37m                                      ^\u001b[0m\n\u001b[1;31mSyntaxError\u001b[0m\u001b[1;31m:\u001b[0m invalid syntax\n"
     ]
    }
   ],
   "source": [
    "# your answer here\n",
    "N=138+29+9\n",
    "N\n",
    "\n",
    "\n",
    "E=random.binomial(n=10, p=0.05, size=200)\n",
    "print(E)\n",
    "OF_list=[0,1,2,]\n",
    "O=random.choice(OF_list,200 ,p=[a1,a2,a3])\n",
    "print(O)\n",
    "\n",
    "    \n",
    "z=[st.chisquare(O, f_exp=E) if E>0]\n",
    "\n",
    "    \n",
    "#seems to have a zerodivision error but dont know how to except it"
   ]
  },
  {
   "cell_type": "code",
   "execution_count": 75,
   "metadata": {},
   "outputs": [
    {
     "name": "stdout",
     "output_type": "stream",
     "text": [
      "0.9884964426207035\n"
     ]
    }
   ],
   "source": [
    "n = 10\n",
    "p = 0.05\n",
    "k = np.arange(0,3)\n",
    "binomial = st.binom.pmf(k,n,p)\n",
    "print(binomial)"
   ]
  },
  {
   "cell_type": "markdown",
   "metadata": {},
   "source": [
    "## Question 4\n",
    "A researcher gathers information about the patterns of Physical Activity of children in the fifth grade of primary school of a public school. He defines three categories of physical activity (Low, Medium, High). He also inquires about the regular consumption of sugary drinks at school, and defines two categories (Yes = consumed, No = not consumed). We would like to evaluate if there is an association between patterns of physical activity and the consumption of sugary drinks for the children of this school, at a level of 5% significance. The results are in the following table: \n",
    "\n",
    "![](table4.png)"
   ]
  },
  {
   "cell_type": "code",
   "execution_count": 23,
   "metadata": {},
   "outputs": [
    {
     "data": {
      "text/plain": [
       "(6.000000000000001,\n",
       " 0.19914827347145564,\n",
       " 4,\n",
       " array([[0.33333333, 0.33333333, 0.33333333],\n",
       "        [0.33333333, 0.33333333, 0.33333333],\n",
       "        [0.33333333, 0.33333333, 0.33333333]]))"
      ]
     },
     "execution_count": 23,
     "metadata": {},
     "output_type": "execute_result"
    }
   ],
   "source": [
    "#your answer here\n",
    "import pandas as pd\n",
    "dataS = {'Yes':  [32, 14,6],\n",
    "        'No': [12, 22,9],\n",
    "        'Physic': [1,2,3]}\n",
    "df_cont = pd.DataFrame (dataS, columns = ['Physic','Yes',\"No\"])\n",
    "cont_table=pd.crosstab(df_cont[\"Physic\"], [df_cont[\"Yes\"],df_cont[\"No\"]])\n",
    "st.chi2_contingency(cont_table)\n"
   ]
  },
  {
   "cell_type": "code",
   "execution_count": null,
   "metadata": {},
   "outputs": [],
   "source": [
    "\"\"\"chi2 : float\n",
    "\n",
    "The test statistic.\n",
    "\n",
    "p : float\n",
    "\n",
    "The p-value of the test\n",
    "\n",
    "dof : int\n",
    "\n",
    "Degrees of freedom\n",
    "\n",
    "expected : ndarray, same shape as observed\n",
    "\n",
    "The expected frequencies, based on the marginal sums of the table.\"\"\"\"\"\"\n",
    "#pvalue of 0.19 we can not reject ho being that there is an associaton btw physical activity and sugary drink\""
   ]
  }
 ],
 "metadata": {
  "kernelspec": {
   "display_name": "Python 3",
   "language": "python",
   "name": "python3"
  },
  "language_info": {
   "codemirror_mode": {
    "name": "ipython",
    "version": 3
   },
   "file_extension": ".py",
   "mimetype": "text/x-python",
   "name": "python",
   "nbconvert_exporter": "python",
   "pygments_lexer": "ipython3",
   "version": "3.8.5"
  }
 },
 "nbformat": 4,
 "nbformat_minor": 2
}
